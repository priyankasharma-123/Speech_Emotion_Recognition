{
  "nbformat": 4,
  "nbformat_minor": 0,
  "metadata": {
    "colab": {
      "name": " Speech_Emotion_Recognition.ipynb",
      "provenance": [],
      "collapsed_sections": [],
      "toc_visible": true
    },
    "kernelspec": {
      "display_name": "Python 3",
      "name": "python3"
    }
  },
  "cells": [
    {
      "cell_type": "markdown",
      "metadata": {
        "id": "Pp0KnMTVEj4M"
      },
      "source": [
        "#Mounting drive"
      ]
    },
    {
      "cell_type": "code",
      "metadata": {
        "id": "QzCNyCJgfWBJ",
        "colab": {
          "base_uri": "https://localhost:8080/"
        },
        "outputId": "a8796936-f3da-45ab-9bd2-50627def15e1"
      },
      "source": [
        "\r\n",
        "from google.colab import drive\r\n",
        "drive.mount('/content/drive')"
      ],
      "execution_count": null,
      "outputs": [
        {
          "output_type": "stream",
          "text": [
            "Mounted at /content/drive\n"
          ],
          "name": "stdout"
        }
      ]
    },
    {
      "cell_type": "markdown",
      "metadata": {
        "id": "8zCE4Y6dFSFd"
      },
      "source": [
        "#Installing Librosa\r\n"
      ]
    },
    {
      "cell_type": "code",
      "metadata": {
        "colab": {
          "base_uri": "https://localhost:8080/"
        },
        "id": "5qHmkPO8XvTA",
        "outputId": "5c0f47c7-3877-4029-866c-2786226c00d6"
      },
      "source": [
        "!pip install librosa soundfile numpy sklearn pyaudio"
      ],
      "execution_count": null,
      "outputs": [
        {
          "output_type": "stream",
          "text": [
            "Requirement already satisfied: librosa in /usr/local/lib/python3.6/dist-packages (0.8.0)\n",
            "Requirement already satisfied: soundfile in /usr/local/lib/python3.6/dist-packages (0.10.3.post1)\n",
            "Requirement already satisfied: numpy in /usr/local/lib/python3.6/dist-packages (1.19.5)\n",
            "Requirement already satisfied: sklearn in /usr/local/lib/python3.6/dist-packages (0.0)\n",
            "Collecting pyaudio\n",
            "  Downloading https://files.pythonhosted.org/packages/ab/42/b4f04721c5c5bfc196ce156b3c768998ef8c0ae3654ed29ea5020c749a6b/PyAudio-0.2.11.tar.gz\n",
            "Requirement already satisfied: audioread>=2.0.0 in /usr/local/lib/python3.6/dist-packages (from librosa) (2.1.9)\n",
            "Requirement already satisfied: resampy>=0.2.2 in /usr/local/lib/python3.6/dist-packages (from librosa) (0.2.2)\n",
            "Requirement already satisfied: decorator>=3.0.0 in /usr/local/lib/python3.6/dist-packages (from librosa) (4.4.2)\n",
            "Requirement already satisfied: numba>=0.43.0 in /usr/local/lib/python3.6/dist-packages (from librosa) (0.51.2)\n",
            "Requirement already satisfied: joblib>=0.14 in /usr/local/lib/python3.6/dist-packages (from librosa) (1.0.0)\n",
            "Requirement already satisfied: pooch>=1.0 in /usr/local/lib/python3.6/dist-packages (from librosa) (1.3.0)\n",
            "Requirement already satisfied: scikit-learn!=0.19.0,>=0.14.0 in /usr/local/lib/python3.6/dist-packages (from librosa) (0.22.2.post1)\n",
            "Requirement already satisfied: scipy>=1.0.0 in /usr/local/lib/python3.6/dist-packages (from librosa) (1.4.1)\n",
            "Requirement already satisfied: cffi>=1.0 in /usr/local/lib/python3.6/dist-packages (from soundfile) (1.14.4)\n",
            "Requirement already satisfied: six>=1.3 in /usr/local/lib/python3.6/dist-packages (from resampy>=0.2.2->librosa) (1.15.0)\n",
            "Requirement already satisfied: llvmlite<0.35,>=0.34.0.dev0 in /usr/local/lib/python3.6/dist-packages (from numba>=0.43.0->librosa) (0.34.0)\n",
            "Requirement already satisfied: setuptools in /usr/local/lib/python3.6/dist-packages (from numba>=0.43.0->librosa) (53.0.0)\n",
            "Requirement already satisfied: appdirs in /usr/local/lib/python3.6/dist-packages (from pooch>=1.0->librosa) (1.4.4)\n",
            "Requirement already satisfied: requests in /usr/local/lib/python3.6/dist-packages (from pooch>=1.0->librosa) (2.23.0)\n",
            "Requirement already satisfied: packaging in /usr/local/lib/python3.6/dist-packages (from pooch>=1.0->librosa) (20.9)\n",
            "Requirement already satisfied: pycparser in /usr/local/lib/python3.6/dist-packages (from cffi>=1.0->soundfile) (2.20)\n",
            "Requirement already satisfied: chardet<4,>=3.0.2 in /usr/local/lib/python3.6/dist-packages (from requests->pooch>=1.0->librosa) (3.0.4)\n",
            "Requirement already satisfied: urllib3!=1.25.0,!=1.25.1,<1.26,>=1.21.1 in /usr/local/lib/python3.6/dist-packages (from requests->pooch>=1.0->librosa) (1.24.3)\n",
            "Requirement already satisfied: idna<3,>=2.5 in /usr/local/lib/python3.6/dist-packages (from requests->pooch>=1.0->librosa) (2.10)\n",
            "Requirement already satisfied: certifi>=2017.4.17 in /usr/local/lib/python3.6/dist-packages (from requests->pooch>=1.0->librosa) (2020.12.5)\n",
            "Requirement already satisfied: pyparsing>=2.0.2 in /usr/local/lib/python3.6/dist-packages (from packaging->pooch>=1.0->librosa) (2.4.7)\n",
            "Building wheels for collected packages: pyaudio\n",
            "  Building wheel for pyaudio (setup.py) ... \u001b[?25lerror\n",
            "\u001b[31m  ERROR: Failed building wheel for pyaudio\u001b[0m\n",
            "\u001b[?25h  Running setup.py clean for pyaudio\n",
            "Failed to build pyaudio\n",
            "Installing collected packages: pyaudio\n",
            "    Running setup.py install for pyaudio ... \u001b[?25l\u001b[?25herror\n",
            "\u001b[31mERROR: Command errored out with exit status 1: /usr/bin/python3 -u -c 'import sys, setuptools, tokenize; sys.argv[0] = '\"'\"'/tmp/pip-install-5chrgmv1/pyaudio/setup.py'\"'\"'; __file__='\"'\"'/tmp/pip-install-5chrgmv1/pyaudio/setup.py'\"'\"';f=getattr(tokenize, '\"'\"'open'\"'\"', open)(__file__);code=f.read().replace('\"'\"'\\r\\n'\"'\"', '\"'\"'\\n'\"'\"');f.close();exec(compile(code, __file__, '\"'\"'exec'\"'\"'))' install --record /tmp/pip-record-iisb3sln/install-record.txt --single-version-externally-managed --compile Check the logs for full command output.\u001b[0m\n"
          ],
          "name": "stdout"
        }
      ]
    },
    {
      "cell_type": "code",
      "metadata": {
        "colab": {
          "base_uri": "https://localhost:8080/"
        },
        "id": "yvtG1NnVeOYO",
        "outputId": "3c8b5c7e-2b41-462a-c85a-fce37ff5c844"
      },
      "source": [
        "!pip install soundfile"
      ],
      "execution_count": null,
      "outputs": [
        {
          "output_type": "stream",
          "text": [
            "Requirement already satisfied: soundfile in /usr/local/lib/python3.6/dist-packages (0.10.3.post1)\n",
            "Requirement already satisfied: cffi>=1.0 in /usr/local/lib/python3.6/dist-packages (from soundfile) (1.14.4)\n",
            "Requirement already satisfied: pycparser in /usr/local/lib/python3.6/dist-packages (from cffi>=1.0->soundfile) (2.20)\n"
          ],
          "name": "stdout"
        }
      ]
    },
    {
      "cell_type": "markdown",
      "metadata": {
        "id": "yhcUcyaxGCtp"
      },
      "source": [
        "#Importing Libraries"
      ]
    },
    {
      "cell_type": "code",
      "metadata": {
        "id": "TxY5sfzAL-bA"
      },
      "source": [
        "from zipfile import ZipFile \r\n",
        "import librosa\r\n",
        "import soundfile\r\n",
        "import os, glob, pickle\r\n",
        "import numpy as np\r\n",
        "import sklearn\r\n",
        "sklearn.__version__\r\n",
        "from sklearn.model_selection import train_test_split\r\n",
        "from sklearn.neural_network import MLPClassifier\r\n",
        "from sklearn.metrics import accuracy_score\r\n"
      ],
      "execution_count": null,
      "outputs": []
    },
    {
      "cell_type": "markdown",
      "metadata": {
        "id": "tzQ-EcOdGGus"
      },
      "source": [
        "#Reading Dataset"
      ]
    },
    {
      "cell_type": "code",
      "metadata": {
        "id": "UTKMxaIzLtoz"
      },
      "source": [
        "file_name = \"/content/drive/MyDrive/Speech_Recognition_Project/speech_recogniitiion_dataset.zip\"\r\n",
        "  \r\n",
        "# opening the zip file in READ mode \r\n",
        "with ZipFile(file_name, 'r') as zip: \r\n",
        "    # printing all the contents of the zip file \r\n",
        "    zip.printdir() \r\n",
        "  \r\n",
        "    # extracting all the files \r\n",
        "    print('Extracting all the files now...') \r\n",
        "    zip.extractall() \r\n",
        "    print('Done!') "
      ],
      "execution_count": null,
      "outputs": []
    },
    {
      "cell_type": "markdown",
      "metadata": {
        "id": "m5N7XWT9Egtq"
      },
      "source": [
        "#Extract features (mfcc, chroma, mel) from a sound file"
      ]
    },
    {
      "cell_type": "code",
      "metadata": {
        "id": "BhF9weV3Nq-B"
      },
      "source": [
        "#Extract features (mfcc, chroma, mel) from a sound file\r\n",
        "\r\n",
        "def extract_feature(file_name, mfcc, chroma, mel):\r\n",
        "    X, sample_rate = librosa.load(os.path.join(file_name),res_type = 'kaiser_fast')\r\n",
        "    if chroma:\r\n",
        "         stft=np.abs(librosa.stft(X))\r\n",
        "    result=np.array([])\r\n",
        "    if mfcc:\r\n",
        "        mfccs=np.mean(librosa.feature.mfcc(y=X, sr=sample_rate, n_mfcc=40).T, axis=0)\r\n",
        "        result=np.hstack((result, mfccs))  \r\n",
        "    if chroma:\r\n",
        "        chroma=np.mean(librosa.feature.chroma_stft(S=stft, sr=sample_rate).T,axis=0)\r\n",
        "        result=np.hstack((result, chroma))\r\n",
        "    if mel:\r\n",
        "        mel=np.mean(librosa.feature.melspectrogram(X, sr=sample_rate).T,axis=0)\r\n",
        "        result=np.hstack((result, mel))\r\n",
        "    return result\r\n",
        "\r\n",
        "\r\n",
        "       \r\n",
        "          \r\n",
        "       "
      ],
      "execution_count": null,
      "outputs": []
    },
    {
      "cell_type": "markdown",
      "metadata": {
        "id": "s8m_siiGGfPN"
      },
      "source": [
        "# Emotions in the RAVDESS dataset"
      ]
    },
    {
      "cell_type": "code",
      "metadata": {
        "id": "Ef3g_9CZ4ipT"
      },
      "source": [
        "\r\n",
        "emotions={\r\n",
        "  '01':'neutral',\r\n",
        "  '02':'calm',\r\n",
        "  '03':'happy',\r\n",
        "  '04':'sad',\r\n",
        "  '05':'angry',\r\n",
        "  '06':'fearful',\r\n",
        "  '07':'disgust',\r\n",
        "  '08':'surprised'\r\n",
        "}\r\n",
        "\r\n",
        "# Emotions to observe\r\n",
        "observed_emotions=[ 'calm', 'happy','fearful', 'disgust','surprised','sad','neutral','angry' ]"
      ],
      "execution_count": null,
      "outputs": []
    },
    {
      "cell_type": "markdown",
      "metadata": {
        "id": "s55UtS4FGk7u"
      },
      "source": [
        "# Load the data and extract features for each sound file"
      ]
    },
    {
      "cell_type": "code",
      "metadata": {
        "id": "yTmLFuYB4j7T"
      },
      "source": [
        "\r\n",
        "def load_data(test_size=0.2):\r\n",
        "    x,y=[],[]\r\n",
        "    for file in glob.glob(\"/content/drive/MyDrive/Speech_Recognition_Project/speech_recogniton/Actor_*/*.wav\"):\r\n",
        "        file_name = os.path.basename(file)\r\n",
        "        emotion=emotions[file_name.split(\"-\")[2]]\r\n",
        "        if emotion not in observed_emotions:\r\n",
        "            continue\r\n",
        "        feature=extract_feature(file, mfcc=True, chroma=True, mel=True)\r\n",
        "        x.append(feature)\r\n",
        "        y.append(emotion)\r\n",
        "    return train_test_split(np.array(x), y, test_size=test_size,train_size = 0.75,random_state=9)\r\n"
      ],
      "execution_count": null,
      "outputs": []
    },
    {
      "cell_type": "markdown",
      "metadata": {
        "id": "JGRmDpvBYqFb"
      },
      "source": [
        "# Passing sample audio files"
      ]
    },
    {
      "cell_type": "code",
      "metadata": {
        "id": "sGDwSkujEXw5"
      },
      "source": [
        "file = \"/content/drive/MyDrive/Speech_Recognition_Project/speech_recogniton/Actor_08/03-01-01-01-01-02-08.wav\"\r\n",
        "feature = extract_feature(file,mfcc = True,chroma = True, mel = True)"
      ],
      "execution_count": null,
      "outputs": []
    },
    {
      "cell_type": "markdown",
      "metadata": {
        "id": "5t5jXxCBGqa0"
      },
      "source": [
        "#Split the dataset"
      ]
    },
    {
      "cell_type": "code",
      "metadata": {
        "id": "QgnmrzK04j4F",
        "colab": {
          "base_uri": "https://localhost:8080/"
        },
        "outputId": "9de62fef-0bd8-4444-b740-190fc510a9fc"
      },
      "source": [
        "\r\n",
        "import time\r\n",
        "x_train,x_test,y_train,y_test=load_data(test_size = 0.25)\r\n",
        "print(x_train,x_test,y_train,y_test)"
      ],
      "execution_count": null,
      "outputs": [
        {
          "output_type": "stream",
          "text": [
            "[[-6.48059387e+02  4.14927063e+01 -5.28695917e+00 ...  5.04699938e-06\n",
            "   1.29547402e-06  2.20142169e-07]\n",
            " [-6.12666992e+02  5.87811394e+01  6.70590734e+00 ...  1.64297071e-05\n",
            "   1.77926165e-06  9.44622229e-08]\n",
            " [-3.59744324e+02  3.31677666e+01 -4.15778770e+01 ...  8.25019160e-05\n",
            "   1.54266036e-05  1.31189654e-06]\n",
            " ...\n",
            " [-6.56254700e+02  3.80709419e+01 -9.98252392e+00 ...  2.72932994e-06\n",
            "   4.77005699e-07  3.38207506e-08]\n",
            " [-6.30861084e+02  5.12848167e+01  7.66397762e+00 ...  5.94629319e-06\n",
            "   1.22769825e-06  4.05802041e-08]\n",
            " [-6.56698181e+02  7.84913483e+01 -8.27599430e+00 ...  1.06471994e-07\n",
            "   1.84467250e-08  1.59651037e-09]] [[-5.52448853e+02  6.93694382e+01 -1.46787777e+01 ...  1.96920928e-06\n",
            "   3.44458527e-07  4.33093632e-08]\n",
            " [-5.92841248e+02  7.16551208e+01 -1.03371925e+01 ...  2.40116651e-06\n",
            "   4.24073448e-07  4.07918819e-08]\n",
            " [-6.76255920e+02  5.47155190e+01 -5.20402527e+00 ...  5.02197827e-06\n",
            "   7.18188574e-07  8.16106294e-08]\n",
            " ...\n",
            " [-5.87038330e+02  3.50772133e+01 -1.10800495e+01 ...  1.47195840e-06\n",
            "   3.14797660e-07  2.43208618e-08]\n",
            " [-4.51851410e+02  3.98323441e+01 -8.15477180e+00 ...  2.18730402e-05\n",
            "   3.79726021e-06  2.95163971e-07]\n",
            " [-6.74124268e+02  6.58616409e+01  1.20059404e+01 ...  1.74083550e-06\n",
            "   1.84724712e-07  1.42533967e-08]] ['disgust', 'fearful', 'fearful', 'calm', 'fearful', 'fearful', 'fearful', 'happy', 'fearful', 'calm', 'disgust', 'happy', 'happy', 'happy', 'calm', 'calm', 'calm', 'calm', 'fearful', 'fearful', 'fearful', 'happy', 'happy', 'calm', 'fearful', 'calm', 'fearful', 'happy', 'disgust', 'calm', 'happy', 'happy', 'disgust', 'happy', 'calm', 'calm', 'disgust', 'fearful', 'disgust', 'disgust', 'fearful', 'fearful', 'fearful', 'disgust', 'fearful', 'fearful', 'disgust', 'calm', 'disgust', 'fearful', 'calm', 'fearful', 'fearful', 'fearful', 'disgust', 'calm', 'calm', 'calm', 'disgust', 'disgust', 'calm', 'happy', 'calm', 'happy', 'fearful', 'disgust', 'disgust', 'happy', 'happy', 'happy', 'fearful', 'calm', 'happy', 'happy', 'disgust', 'fearful', 'fearful', 'fearful', 'disgust', 'calm', 'calm', 'fearful', 'calm', 'calm', 'calm', 'calm', 'calm', 'fearful', 'calm', 'disgust', 'disgust', 'happy', 'fearful', 'disgust', 'happy', 'fearful', 'calm', 'calm', 'calm', 'happy', 'happy', 'calm', 'disgust', 'happy', 'calm', 'fearful', 'fearful', 'calm', 'disgust', 'disgust', 'fearful', 'happy', 'happy', 'calm', 'disgust', 'happy', 'fearful', 'happy', 'fearful', 'calm', 'disgust', 'happy', 'happy', 'disgust', 'disgust', 'happy', 'happy', 'happy', 'calm', 'happy', 'fearful', 'fearful', 'happy', 'happy', 'fearful', 'calm', 'fearful', 'happy', 'disgust', 'calm', 'fearful', 'fearful', 'disgust', 'fearful', 'happy', 'happy', 'calm', 'fearful', 'calm', 'calm', 'fearful', 'disgust', 'calm', 'happy', 'fearful', 'fearful', 'calm', 'calm', 'calm', 'disgust', 'fearful', 'happy', 'fearful', 'calm', 'calm', 'happy', 'happy', 'calm', 'calm', 'fearful', 'disgust', 'happy', 'happy', 'fearful', 'disgust', 'disgust', 'happy', 'calm', 'happy', 'happy', 'disgust', 'disgust', 'fearful', 'fearful', 'disgust', 'fearful', 'happy', 'fearful', 'happy', 'calm', 'happy', 'disgust', 'disgust', 'disgust', 'disgust', 'calm', 'calm', 'disgust', 'disgust', 'happy', 'calm', 'calm', 'calm', 'happy', 'calm', 'calm', 'fearful', 'disgust', 'disgust', 'calm', 'disgust', 'happy', 'calm', 'happy', 'disgust', 'calm', 'happy', 'happy', 'disgust', 'disgust', 'disgust', 'disgust', 'fearful', 'fearful', 'disgust', 'happy', 'disgust', 'calm', 'fearful', 'fearful', 'disgust', 'happy', 'happy', 'happy', 'disgust', 'happy', 'happy', 'fearful', 'calm', 'happy', 'fearful', 'calm', 'calm', 'disgust', 'fearful', 'fearful', 'happy', 'happy', 'calm', 'fearful', 'calm', 'calm', 'fearful', 'happy', 'disgust', 'happy', 'fearful', 'disgust', 'disgust', 'happy', 'happy', 'disgust', 'disgust', 'disgust', 'disgust', 'disgust', 'disgust', 'fearful', 'calm', 'fearful', 'calm', 'disgust', 'disgust', 'fearful', 'happy', 'fearful', 'happy', 'fearful', 'disgust', 'disgust', 'disgust', 'happy', 'fearful', 'calm', 'fearful', 'happy', 'happy', 'disgust', 'disgust', 'fearful', 'calm', 'calm', 'disgust', 'fearful', 'fearful', 'happy', 'happy', 'happy', 'disgust', 'happy', 'happy', 'fearful', 'happy', 'calm', 'fearful', 'calm', 'calm', 'fearful', 'calm', 'happy', 'disgust', 'disgust', 'calm', 'calm', 'fearful', 'calm', 'fearful', 'disgust', 'disgust', 'fearful', 'fearful', 'happy', 'happy', 'happy', 'calm', 'happy', 'fearful', 'happy', 'fearful', 'fearful', 'happy', 'disgust', 'happy', 'fearful', 'disgust', 'fearful', 'disgust', 'calm', 'disgust', 'calm', 'disgust', 'happy', 'calm', 'happy', 'calm', 'happy', 'calm', 'happy', 'fearful', 'calm', 'fearful', 'disgust', 'happy', 'calm', 'happy', 'disgust', 'happy', 'disgust', 'happy', 'disgust', 'happy', 'calm', 'fearful', 'happy', 'calm', 'calm', 'fearful', 'calm', 'happy', 'disgust', 'happy', 'fearful', 'disgust', 'disgust', 'disgust', 'calm', 'fearful', 'calm', 'calm', 'happy', 'happy', 'fearful', 'happy', 'happy', 'fearful', 'disgust', 'disgust', 'disgust', 'happy', 'calm', 'calm', 'fearful', 'fearful', 'calm', 'happy', 'fearful', 'disgust', 'happy', 'disgust', 'happy', 'calm', 'disgust', 'happy', 'fearful', 'happy', 'calm', 'calm', 'disgust', 'disgust', 'calm', 'fearful', 'fearful', 'happy', 'calm', 'fearful', 'disgust', 'disgust', 'fearful', 'happy', 'fearful', 'disgust', 'disgust', 'fearful', 'happy', 'disgust', 'disgust', 'disgust', 'happy', 'disgust', 'fearful', 'happy', 'happy', 'fearful', 'calm', 'calm', 'fearful', 'fearful', 'happy', 'calm', 'disgust', 'fearful', 'disgust', 'happy', 'calm', 'disgust', 'fearful', 'happy', 'disgust', 'fearful', 'disgust', 'happy', 'disgust', 'disgust', 'fearful', 'disgust', 'disgust'] ['happy', 'disgust', 'calm', 'disgust', 'calm', 'fearful', 'fearful', 'happy', 'happy', 'disgust', 'calm', 'disgust', 'fearful', 'disgust', 'calm', 'calm', 'disgust', 'fearful', 'disgust', 'calm', 'happy', 'calm', 'happy', 'happy', 'fearful', 'disgust', 'fearful', 'calm', 'calm', 'calm', 'fearful', 'fearful', 'happy', 'fearful', 'calm', 'fearful', 'disgust', 'happy', 'disgust', 'calm', 'disgust', 'happy', 'disgust', 'fearful', 'calm', 'calm', 'happy', 'fearful', 'disgust', 'disgust', 'disgust', 'disgust', 'fearful', 'calm', 'fearful', 'fearful', 'happy', 'happy', 'calm', 'happy', 'happy', 'disgust', 'calm', 'calm', 'fearful', 'calm', 'calm', 'fearful', 'calm', 'happy', 'calm', 'disgust', 'disgust', 'calm', 'calm', 'calm', 'disgust', 'calm', 'fearful', 'disgust', 'fearful', 'fearful', 'happy', 'happy', 'disgust', 'fearful', 'fearful', 'disgust', 'fearful', 'happy', 'calm', 'happy', 'disgust', 'happy', 'happy', 'disgust', 'disgust', 'happy', 'calm', 'calm', 'calm', 'fearful', 'calm', 'fearful', 'happy', 'calm', 'disgust', 'disgust', 'fearful', 'calm', 'fearful', 'calm', 'happy', 'happy', 'happy', 'fearful', 'happy', 'calm', 'happy', 'fearful', 'fearful', 'happy', 'calm', 'happy', 'happy', 'fearful', 'calm', 'calm', 'disgust', 'calm', 'fearful', 'happy', 'fearful', 'disgust', 'fearful', 'fearful', 'disgust', 'disgust', 'calm', 'calm', 'disgust', 'disgust', 'calm', 'happy', 'calm', 'fearful', 'fearful', 'calm', 'calm', 'calm', 'disgust', 'fearful', 'disgust']\n"
          ],
          "name": "stdout"
        }
      ]
    },
    {
      "cell_type": "markdown",
      "metadata": {
        "id": "a6XUiBdUGvkx"
      },
      "source": [
        "#Shaping the model\r\n",
        "\r\n"
      ]
    },
    {
      "cell_type": "code",
      "metadata": {
        "colab": {
          "base_uri": "https://localhost:8080/"
        },
        "id": "uRUMl7wGuO-u",
        "outputId": "e98e26ab-88da-451d-d1b2-a61d15f4e95f"
      },
      "source": [
        "#get the shape of the training and testing data \r\n",
        "print((x_train.shape[0],x_test.shape[0]))"
      ],
      "execution_count": null,
      "outputs": [
        {
          "output_type": "stream",
          "text": [
            "(456, 153)\n"
          ],
          "name": "stdout"
        }
      ]
    },
    {
      "cell_type": "markdown",
      "metadata": {
        "id": "PZHzZapPHEq7"
      },
      "source": [
        "#Get the number of features extracted"
      ]
    },
    {
      "cell_type": "code",
      "metadata": {
        "colab": {
          "base_uri": "https://localhost:8080/"
        },
        "id": "HULWa7M-4y6F",
        "outputId": "bf37072d-80e5-475b-e737-e306febf52a0"
      },
      "source": [
        "#print((x_train[0], x_test[0]))\r\n",
        "print(f'Features extracted: {x_train.shape[1]}')"
      ],
      "execution_count": null,
      "outputs": [
        {
          "output_type": "stream",
          "text": [
            "Features extracted: 180\n"
          ],
          "name": "stdout"
        }
      ]
    },
    {
      "cell_type": "markdown",
      "metadata": {
        "id": "SbGvH2jHHLIq"
      },
      "source": [
        "#Initialize the Multi Layer Perceptron Classifier"
      ]
    },
    {
      "cell_type": "code",
      "metadata": {
        "id": "zgSpuIEw4zh2"
      },
      "source": [
        "\r\n",
        "model=MLPClassifier(alpha=0.01, batch_size=256, epsilon=1e-08, hidden_layer_sizes=(300,), learning_rate='adaptive', max_iter=500)"
      ],
      "execution_count": null,
      "outputs": []
    },
    {
      "cell_type": "markdown",
      "metadata": {
        "id": "8q5ed1WhHNGT"
      },
      "source": [
        "\r\n",
        "#  fit/Train the model"
      ]
    },
    {
      "cell_type": "code",
      "metadata": {
        "id": "iQcuKiHt4z19",
        "colab": {
          "base_uri": "https://localhost:8080/"
        },
        "outputId": "a2817bbd-b393-4ef5-83c3-daf40ee807c8"
      },
      "source": [
        "#fit 0r train the model\r\n",
        "model.fit(x_train,y_train)"
      ],
      "execution_count": null,
      "outputs": [
        {
          "output_type": "execute_result",
          "data": {
            "text/plain": [
              "MLPClassifier(activation='relu', alpha=0.01, batch_size=256, beta_1=0.9,\n",
              "              beta_2=0.999, early_stopping=False, epsilon=1e-08,\n",
              "              hidden_layer_sizes=(300,), learning_rate='adaptive',\n",
              "              learning_rate_init=0.001, max_fun=15000, max_iter=500,\n",
              "              momentum=0.9, n_iter_no_change=10, nesterovs_momentum=True,\n",
              "              power_t=0.5, random_state=None, shuffle=True, solver='adam',\n",
              "              tol=0.0001, validation_fraction=0.1, verbose=False,\n",
              "              warm_start=False)"
            ]
          },
          "metadata": {
            "tags": []
          },
          "execution_count": 32
        }
      ]
    },
    {
      "cell_type": "markdown",
      "metadata": {
        "id": "db5w42TxHSHS"
      },
      "source": [
        "# Predict the accuracy of the model"
      ]
    },
    {
      "cell_type": "code",
      "metadata": {
        "id": "I4s5ediY5EhP",
        "colab": {
          "base_uri": "https://localhost:8080/"
        },
        "outputId": "6f7cb97e-d5b3-4f0a-fd73-3ac185be8c67"
      },
      "source": [
        "\r\n",
        "y_pred=model.predict(x_test)\r\n",
        "\r\n",
        "y_pre = model.predict([feature])\r\n",
        "print(y_pre)\r\n",
        "time.sleep(2)\r\n"
      ],
      "execution_count": null,
      "outputs": [
        {
          "output_type": "stream",
          "text": [
            "['disgust']\n"
          ],
          "name": "stdout"
        }
      ]
    },
    {
      "cell_type": "code",
      "metadata": {
        "id": "ohtU5dJznGF3"
      },
      "source": [
        ""
      ],
      "execution_count": null,
      "outputs": []
    },
    {
      "cell_type": "markdown",
      "metadata": {
        "id": "ny49DxLfHdPM"
      },
      "source": [
        "# Calculate the accuracy of our model"
      ]
    },
    {
      "cell_type": "code",
      "metadata": {
        "id": "Y3SStMDf5EPQ",
        "colab": {
          "base_uri": "https://localhost:8080/"
        },
        "outputId": "8f6afab8-1cc6-46f3-9c52-9d6da3fd08ea"
      },
      "source": [
        "\r\n",
        "accuracy=accuracy_score(y_true=y_test, y_pred=y_pred)\r\n",
        "\r\n",
        "# Print the accuracy\r\n",
        "print(\"Accuracy: {:.2f}%\".format(accuracy*100))"
      ],
      "execution_count": null,
      "outputs": [
        {
          "output_type": "stream",
          "text": [
            "Accuracy: 75.82%\n"
          ],
          "name": "stdout"
        }
      ]
    }
  ]
}